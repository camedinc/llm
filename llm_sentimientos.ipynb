{
 "cells": [
  {
   "cell_type": "markdown",
   "metadata": {},
   "source": [
    "## LLM análisis de sentimientos"
   ]
  },
  {
   "cell_type": "code",
   "execution_count": 2,
   "metadata": {},
   "outputs": [],
   "source": [
    "# Liberías\n",
    "from transformers import pipeline"
   ]
  },
  {
   "cell_type": "code",
   "execution_count": 9,
   "metadata": {},
   "outputs": [
    {
     "name": "stderr",
     "output_type": "stream",
     "text": [
      "c:\\Users\\camed\\anaconda3\\envs\\llm\\Lib\\site-packages\\huggingface_hub\\file_download.py:159: UserWarning: `huggingface_hub` cache-system uses symlinks by default to efficiently store duplicated files but your machine does not support them in C:\\Users\\camed\\.cache\\huggingface\\hub\\models--lxyuan--distilbert-base-multilingual-cased-sentiments-student. Caching files will still work but in a degraded version that might require more space on your disk. This warning can be disabled by setting the `HF_HUB_DISABLE_SYMLINKS_WARNING` environment variable. For more details, see https://huggingface.co/docs/huggingface_hub/how-to-cache#limitations.\n",
      "To support symlinks on Windows, you either need to activate Developer Mode or to run Python as an administrator. In order to see activate developer mode, see this article: https://docs.microsoft.com/en-us/windows/apps/get-started/enable-your-device-for-development\n",
      "  warnings.warn(message)\n"
     ]
    }
   ],
   "source": [
    "# Inicializa el modelo para análisis de sentimientos\n",
    "# lxyuan/distilbert-base-multilingual-cased-sentiments-student\n",
    "# distilbert-base-uncased\n",
    "sentiment_analizer = pipeline(\"sentiment-analysis\",\n",
    "                              model=\"lxyuan/distilbert-base-multilingual-cased-sentiments-student\")"
   ]
  },
  {
   "cell_type": "code",
   "execution_count": 10,
   "metadata": {},
   "outputs": [],
   "source": [
    "# Mensajes\n",
    "messages = [\"Amo usar Python para ciencia de datos, es muy divertido\",\n",
    "            \"La película era muy aburrida y no se entendía su argumento\",\n",
    "            \"Es una buena idea estudiar por las mañanas porque el ambiente es tranquilo\",\n",
    "            \"El calor me está matando\",\n",
    "            \"Odio usar corbata, me molesta mucho\",\n",
    "            \"El café es delicioso\",\n",
    "            \"Me encanta el jugo de naranja\"]"
   ]
  },
  {
   "cell_type": "code",
   "execution_count": 11,
   "metadata": {},
   "outputs": [],
   "source": [
    "# Procesamiento\n",
    "results = []\n",
    "for message in messages:\n",
    "    sentiment = sentiment_analizer(message)[0] # análisis de sentimiento\n",
    "    \n",
    "    results.append({\n",
    "        \"Message\" : message,\n",
    "        \"Sentiment\": sentiment[\"label\"]\n",
    "    })"
   ]
  },
  {
   "cell_type": "code",
   "execution_count": 12,
   "metadata": {},
   "outputs": [
    {
     "name": "stdout",
     "output_type": "stream",
     "text": [
      "Message: Amo usar Python para ciencia de datos, es muy divertido\n",
      "Sentiment: positive\n",
      "Message: La película era muy aburrida y no se entendía su argumento\n",
      "Sentiment: negative\n",
      "Message: Es una buena idea estudiar por las mañanas porque el ambiente es tranquilo\n",
      "Sentiment: positive\n",
      "Message: El calor me está matando\n",
      "Sentiment: negative\n",
      "Message: Odio usar corbata, me molesta mucho\n",
      "Sentiment: negative\n",
      "Message: El café es delicioso\n",
      "Sentiment: positive\n",
      "Message: Me encanta el jugo de naranja\n",
      "Sentiment: positive\n"
     ]
    }
   ],
   "source": [
    "# Resultados\n",
    "for result in results:\n",
    "    print(f\"Message: {result['Message']}\")\n",
    "    print(f\"Sentiment: {result['Sentiment']}\")"
   ]
  },
  {
   "cell_type": "markdown",
   "metadata": {},
   "source": []
  }
 ],
 "metadata": {
  "kernelspec": {
   "display_name": "llm",
   "language": "python",
   "name": "python3"
  },
  "language_info": {
   "codemirror_mode": {
    "name": "ipython",
    "version": 3
   },
   "file_extension": ".py",
   "mimetype": "text/x-python",
   "name": "python",
   "nbconvert_exporter": "python",
   "pygments_lexer": "ipython3",
   "version": "3.11.11"
  }
 },
 "nbformat": 4,
 "nbformat_minor": 2
}
